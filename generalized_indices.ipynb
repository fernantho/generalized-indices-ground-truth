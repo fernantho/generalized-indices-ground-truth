{
 "cells": [
  {
   "cell_type": "markdown",
   "id": "004de653",
   "metadata": {},
   "source": [
    "## Generalized Indices ground truth for SSZ-QL GI calculation\n",
    "The target of this Notebook is to support the development of Generalized Indices calculation in the scope of Generalized Merkle Multiproofs"
   ]
  },
  {
   "cell_type": "code",
   "execution_count": null,
   "id": "65f073a1",
   "metadata": {},
   "outputs": [],
   "source": [
    "from eth2spec.altair.mainnet import get_generalized_index\n",
    "from eth2spec.utils.ssz.ssz_typing import Container, List, Vector, Bytes32, uint64, byte, bit\n",
    "from typing import Union as PyUnion"
   ]
  },
  {
   "cell_type": "code",
   "execution_count": null,
   "id": "9233bd93",
   "metadata": {},
   "outputs": [],
   "source": [
    "class FixedNestedContainer(Container):\n",
    "    Value1: uint64\n",
    "    Value2: Vector[Bytes32, 32]  # Vector of Bytes32 with fixed length 32\n",
    "\n",
    "\n",
    "class VariableNestedContainer(Container):\n",
    "    Value1: uint64\n",
    "    FieldListUint64: List[uint64, 100]\n",
    "    NestedListField: List[List[byte, 100], 50]\n",
    "\n",
    "class VariableTestContainer(Container):\n",
    "    LeadingField: Bytes32\n",
    "    FieldListUint64: List[uint64, 2048]\n",
    "    FieldListContainer: List[FixedNestedContainer, 128]\n",
    "    FieldListBytes32: List[Bytes32, 100]\n",
    "    Nested: VariableNestedContainer\n",
    "    BitlistField: List[bit, 2048]\n",
    "    NestedListField: List[List[byte, 100], 50]\n",
    "    TrailingField: Vector[byte, 56]\n",
    "\t\n"
   ]
  },
  {
   "cell_type": "code",
   "execution_count": 36,
   "id": "b78d25a6",
   "metadata": {},
   "outputs": [
    {
     "name": "stdout",
     "output_type": "stream",
     "text": [
      "Generalized index for Value1 is 2\n",
      "Generalized index for Value2 is 3\n",
      "Generalized index for Value2[0] is 96\n",
      "Generalized index for Value2[31] is 127\n",
      "Generalized index for len(FieldListUint64) is 11\n",
      "Generalized index for len(NestedListField) is 13\n",
      "Generalized index for len(NestedListField[0]) is 1537\n",
      "Generalized index for NestedListField[0][5] is 6144\n"
     ]
    }
   ],
   "source": [
    "# Container field roots\n",
    "element_paths = ['Value1', 'Value2']\n",
    "for element in element_paths:\n",
    "    gi = get_generalized_index(FixedNestedContainer, element)\n",
    "    print(f\"Generalized index for {element} is {gi}\")\n",
    "\n",
    "# Vector element roots (Value2 is a Vector[Bytes32, 32])\n",
    "gi_v2_0 = get_generalized_index(FixedNestedContainer, 'Value2', 0)\n",
    "print(f\"Generalized index for Value2[0] is {gi_v2_0}\")\n",
    "\n",
    "gi_v2_31 = get_generalized_index(FixedNestedContainer, 'Value2', 31)\n",
    "print(f\"Generalized index for Value2[31] is {gi_v2_31}\")\n",
    "\n",
    "# List length root (FieldListUint64 is a List[uint64, 100])\n",
    "gi_list_len = get_generalized_index(VariableNestedContainer, 'FieldListUint64', '__len__')\n",
    "print(f\"Generalized index for len(FieldListUint64) is {gi_list_len}\")\n",
    "\n",
    "# Nested list examples (NestedListField is List[List[byte, 100], 50])\n",
    "gi_outer_len = get_generalized_index(VariableNestedContainer, 'NestedListField', '__len__')\n",
    "print(f\"Generalized index for len(NestedListField) is {gi_outer_len}\")\n",
    "\n",
    "gi_inner0_len = get_generalized_index(VariableNestedContainer, 'NestedListField', 0, '__len__')\n",
    "print(f\"Generalized index for len(NestedListField[0]) is {gi_inner0_len}\")\n",
    "\n",
    "gi_inner_elem = get_generalized_index(VariableNestedContainer, 'NestedListField', 0, 5)\n",
    "print(f\"Generalized index for NestedListField[0][5] is {gi_inner_elem}\")"
   ]
  }
 ],
 "metadata": {
  "kernelspec": {
   "display_name": ".venv (3.13.7)",
   "language": "python",
   "name": "python3"
  },
  "language_info": {
   "codemirror_mode": {
    "name": "ipython",
    "version": 3
   },
   "file_extension": ".py",
   "mimetype": "text/x-python",
   "name": "python",
   "nbconvert_exporter": "python",
   "pygments_lexer": "ipython3",
   "version": "3.13.7"
  }
 },
 "nbformat": 4,
 "nbformat_minor": 5
}
