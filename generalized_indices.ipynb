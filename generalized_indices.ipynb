{
 "cells": [
  {
   "cell_type": "markdown",
   "id": "004de653",
   "metadata": {},
   "source": [
    "## Generalized Indices ground truth for SSZ-QL GI calculation\n",
    "The target of this Notebook is to support the development of Generalized Indices calculation in the scope of Generalized Merkle Multiproofs"
   ]
  },
  {
   "cell_type": "code",
   "execution_count": 43,
   "id": "65f073a1",
   "metadata": {},
   "outputs": [],
   "source": [
    "from eth2spec.altair.mainnet import get_generalized_index\n",
    "from eth2spec.utils.ssz.ssz_typing import Container, List, Vector, Bytes32, uint64, byte, Bitlist, Bitvector, uint32, boolean\n",
    "from typing import Union as PyUnion"
   ]
  },
  {
   "cell_type": "code",
   "execution_count": 44,
   "id": "9233bd93",
   "metadata": {},
   "outputs": [],
   "source": [
    "class FixedNestedContainer(Container):\n",
    "    Value1: uint64\n",
    "    Value2: Vector[Bytes32, 32]  # Vector of Bytes32 with fixed length 32\n",
    "\n",
    "class VariableNestedContainer(Container):\n",
    "    Value1: uint64\n",
    "    FieldListUint64: List[uint64, 100]\n",
    "    NestedListField: List[List[byte, 100], 50]\n",
    "\n",
    "class VariableOuterContainer(Container):\n",
    "  Inner1: VariableNestedContainer\n",
    "  Inner2: VariableNestedContainer\n",
    "\n",
    "class VariableTestContainer(Container):\n",
    "    LeadingField: Bytes32\n",
    "    FieldListUint64: List[uint64, 2048]\n",
    "    FieldListContainer: List[FixedNestedContainer, 128]\n",
    "    FieldListBytes32: List[Bytes32, 100]\n",
    "    Nested: VariableNestedContainer\n",
    "    VariableContainerList: List[VariableOuterContainer, 10]\n",
    "    BitlistField: Bitlist[2048]\n",
    "    NestedListField: List[List[byte, 100], 50]\n",
    "    TrailingField: Vector[byte, 56]\n",
    "\n",
    "class FixedTestContainer(Container):\n",
    "    field_uint32: uint32\n",
    "    field_uint64: uint64\n",
    "    field_bool: boolean\n",
    "    field_bytes32: Bytes32\n",
    "    nested: FixedNestedContainer\n",
    "    vector_field: Vector[uint64, 24]\n",
    "    two_dimension_bytes_field: Vector[Bytes32, 5]\n",
    "    bitvector64_field: Bitvector[64]\n",
    "    bitvector512_field: Bitvector[512]\n",
    "    trailing_field: Vector[byte, 56]"
   ]
  },
  {
   "cell_type": "code",
   "execution_count": 45,
   "id": "b78d25a6",
   "metadata": {},
   "outputs": [
    {
     "name": "stdout",
     "output_type": "stream",
     "text": [
      "Generalized index for Value1 is 2\n",
      "Generalized index for Value2 is 3\n",
      "Generalized index for Value2[0] is 96\n",
      "Generalized index for Value2[31] is 127\n"
     ]
    }
   ],
   "source": [
    "# FixedNestedContainer\n",
    "# Container field roots\n",
    "element_paths = ['Value1', 'Value2']\n",
    "for element in element_paths:\n",
    "    gi = get_generalized_index(FixedNestedContainer, element)\n",
    "    print(f\"Generalized index for {element} is {gi}\")\n",
    "\n",
    "# Vector element roots (Value2 is a Vector[Bytes32, 32])\n",
    "gi_v2_0 = get_generalized_index(FixedNestedContainer, 'Value2', 0)\n",
    "print(f\"Generalized index for Value2[0] is {gi_v2_0}\")\n",
    "\n",
    "gi_v2_31 = get_generalized_index(FixedNestedContainer, 'Value2', 31)\n",
    "print(f\"Generalized index for Value2[31] is {gi_v2_31}\")"
   ]
  },
  {
   "cell_type": "code",
   "execution_count": 46,
   "id": "20e81906",
   "metadata": {},
   "outputs": [
    {
     "name": "stdout",
     "output_type": "stream",
     "text": [
      "Generalized index for len(FieldListUint64) is 11\n",
      "Generalized index for len(NestedListField) is 13\n",
      "Generalized index for len(NestedListField[0]) is 1537\n",
      "Generalized index for NestedListField[0][5] is 6144\n"
     ]
    }
   ],
   "source": [
    "# VariableNestedContainer\n",
    "# List length root (FieldListUint64 is a List[uint64, 100])\n",
    "gi_list_len = get_generalized_index(VariableNestedContainer, 'FieldListUint64', '__len__')\n",
    "print(f\"Generalized index for len(FieldListUint64) is {gi_list_len}\")\n",
    "\n",
    "# Nested list examples (NestedListField is List[List[byte, 100], 50])\n",
    "gi_outer_len = get_generalized_index(VariableNestedContainer, 'NestedListField', '__len__')\n",
    "print(f\"Generalized index for len(NestedListField) is {gi_outer_len}\")\n",
    "\n",
    "gi_inner0_len = get_generalized_index(VariableNestedContainer, 'NestedListField', 0, '__len__')\n",
    "print(f\"Generalized index for len(NestedListField[0]) is {gi_inner0_len}\")\n",
    "\n",
    "gi_inner_elem = get_generalized_index(VariableNestedContainer, 'NestedListField', 0, 5)\n",
    "print(f\"Generalized index for NestedListField[0][5] is {gi_inner_elem}\")"
   ]
  },
  {
   "cell_type": "code",
   "execution_count": 47,
   "id": "3844b3c9",
   "metadata": {},
   "outputs": [
    {
     "name": "stdout",
     "output_type": "stream",
     "text": [
      "GI for LeadingField is 16\n",
      "GI for FieldListUint64 is 17\n",
      "GI for FieldListUint64.len() is 35\n",
      "GI for FieldListUint64[0] is 17408\n",
      "GI for FieldListUint64[2047] is 17919\n",
      "GI for Nested.FieldListUint64[10] is 5186\n",
      "GI for BitlistField is 22\n",
      "GI for BitlistField[0] is 352\n",
      "GI for BitlistField[1] is 352\n",
      "GI for BitlistField.len() is 45\n",
      "GI for FieldListContainer[0] is 4608\n",
      "GI for FieldListContainer is 18\n",
      "GI for Nested is 20\n",
      "GI for FieldListBytes32 is 19\n"
     ]
    }
   ],
   "source": [
    "# VariableTestContainer\n",
    "def _format_path(path):\n",
    "    s = \"\"\n",
    "    for seg in path:\n",
    "        if isinstance(seg, str):\n",
    "            if seg == \"__len__\":\n",
    "                s += \".len()\"\n",
    "            else:\n",
    "                s = f\"{s}.{seg}\" if s else seg\n",
    "        else:  # int index\n",
    "            s += f\"[{seg}]\"\n",
    "    return s\n",
    "\n",
    "# Paths to test (as tuples for consistency)\n",
    "fields = [\n",
    "    (\"LeadingField\",),\n",
    "    (\"FieldListUint64\",),\n",
    "    (\"FieldListUint64\", \"__len__\"),\n",
    "    (\"FieldListUint64\", 0),\n",
    "    (\"FieldListUint64\", 2047),\n",
    "    (\"Nested\", \"FieldListUint64\", 10),\n",
    "    (\"BitlistField\",),  # fixed: ensure 1-tuple\n",
    "    (\"BitlistField\", 0),\n",
    "    (\"BitlistField\", 1),\n",
    "    (\"BitlistField\", \"__len__\"),  # handled specially below\n",
    "    (\"FieldListContainer\", 0),\n",
    "    (\"FieldListContainer\",),\n",
    "    (\"Nested\",),\n",
    "    (\"FieldListBytes32\",),\n",
    " ]\n",
    "\n",
    "for path in fields:\n",
    "    try:\n",
    "        # Bitlist length is not supported by helper via '__len__'; compute as right-child of the bitlist root\n",
    "        if len(path) == 2 and path[0] == \"BitlistField\" and path[1] == \"__len__\":\n",
    "            root = get_generalized_index(VariableTestContainer, \"BitlistField\")\n",
    "            gi = root * 2 + 1\n",
    "        else:\n",
    "            gi = get_generalized_index(VariableTestContainer, *path)\n",
    "        print(f\"GI for {_format_path(path)} is {gi}\")\n",
    "    except Exception as e:\n",
    "        print(f\"GI for {_format_path(path)} raised error: {e}\")"
   ]
  },
  {
   "cell_type": "code",
   "execution_count": 48,
   "id": "60ec78be",
   "metadata": {},
   "outputs": [
    {
     "name": "stdout",
     "output_type": "stream",
     "text": [
      "Generalized index for field_uint32 is 16\n",
      "Generalized index for field_uint64 is 17\n",
      "Generalized index for field_bool is 18\n",
      "Generalized index for field_bytes32 is 19\n",
      "Generalized index for nested is 20\n",
      "Generalized index for vector_field is 21\n",
      "Generalized index for two_dimension_bytes_field is 22\n",
      "Generalized index for bitvector64_field is 23\n",
      "Generalized index for bitvector512_field is 24\n",
      "Generalized index for trailing_field is 25\n",
      "Generalized index for bitvector64_field[0] is 23\n",
      "Generalized index for bitvector64_field[63] is 23\n",
      "Generalized index for bitvector512_field[0] is 48\n",
      "Generalized index for bitvector512_field[511] is 49\n"
     ]
    }
   ],
   "source": [
    "# FixedTestContainer\n",
    "fields = [\n",
    "    'field_uint32',\n",
    "    'field_uint64',\n",
    "    'field_bool',\n",
    "    'field_bytes32',\n",
    "    'nested',\n",
    "    'vector_field',\n",
    "    'two_dimension_bytes_field',\n",
    "    'bitvector64_field',\n",
    "    'bitvector512_field',\n",
    "    'trailing_field',\n",
    " ]\n",
    "for name in fields:\n",
    "    gi = get_generalized_index(FixedTestContainer, name)\n",
    "    print(f\"Generalized index for {name} is {gi}\")\n",
    "\n",
    "gi_bitvector64_0 = get_generalized_index(FixedTestContainer, 'bitvector64_field', 0)\n",
    "print(f\"Generalized index for bitvector64_field[0] is {gi_bitvector64_0}\")\n",
    "gi_bitvector64_63 = get_generalized_index(FixedTestContainer, 'bitvector64_field', 63)\n",
    "print(f\"Generalized index for bitvector64_field[63] is {gi_bitvector64_63}\")\n",
    "\n",
    "gi_bitvector512_0 = get_generalized_index(FixedTestContainer, 'bitvector512_field', 0)\n",
    "print(f\"Generalized index for bitvector512_field[0] is {gi_bitvector512_0}\")\n",
    "gi_bitvector512_511 = get_generalized_index(FixedTestContainer, 'bitvector512_field', 511)\n",
    "print(f\"Generalized index for bitvector512_field[511] is {gi_bitvector512_511}\")"
   ]
  }
 ],
 "metadata": {
  "kernelspec": {
   "display_name": ".venv (3.13.7)",
   "language": "python",
   "name": "python3"
  },
  "language_info": {
   "codemirror_mode": {
    "name": "ipython",
    "version": 3
   },
   "file_extension": ".py",
   "mimetype": "text/x-python",
   "name": "python",
   "nbconvert_exporter": "python",
   "pygments_lexer": "ipython3",
   "version": "3.13.7"
  }
 },
 "nbformat": 4,
 "nbformat_minor": 5
}
